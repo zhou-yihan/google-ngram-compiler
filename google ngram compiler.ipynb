{
 "cells": [
  {
   "cell_type": "code",
   "execution_count": 1,
   "id": "7fc4155e",
   "metadata": {},
   "outputs": [],
   "source": [
    "import pandas as pd\n",
    "import string\n",
    "import time\n",
    "import requests\n",
    "import urllib.request\n",
    "import threading\n",
    "import gzip\n",
    "import csv\n",
    "import glob"
   ]
  },
  {
   "cell_type": "markdown",
   "id": "67e5bd94",
   "metadata": {},
   "source": [
    "# procedure\n",
    "\n",
    "stream small ngram files (<700 mb) from url\n",
    "process and write to two-column csv\n",
    "\n",
    "download big ngram files (>700 mb) data to local\n",
    "process and write to two-column csv\n",
    "\n",
    "clean ngram column and only keep alphabet"
   ]
  },
  {
   "cell_type": "code",
   "execution_count": 2,
   "id": "cfecfad9",
   "metadata": {},
   "outputs": [],
   "source": [
    "def read_ngram(url, big_files):\n",
    "    ngram_dict = {}\n",
    "    \n",
    "    with requests.get(url,stream = True) as res:\n",
    "        size = res.headers['Content-length']\n",
    "        if int(size) < 1000 * 1048576: # 900 mb\n",
    "            extracted = gzip.decompress(res.content)\n",
    "            for line in extracted.split(b'\\n'):\n",
    "                line = line.decode()\n",
    "                if line:\n",
    "                    ngram, year, match_count, volume_count = line.split('\\t')\n",
    "                    # remove POS tags\n",
    "                    if \"_\" not in ngram:\n",
    "                        ngram_dict[ngram] = ngram_dict.get(ngram, 0) + int(match_count)\n",
    "        else:\n",
    "            big_files.append(url) # keep track of big files\n",
    "    return ngram_dict\n",
    "\n",
    "def read_ngram_local(file):\n",
    "    ngram_dict = {}\n",
    "    with gzip.open(file,'rt') as f:\n",
    "        for line in f:\n",
    "            if line:\n",
    "                ngram, year, match_count, volume_count = line.split('\\t')\n",
    "                # remove POS tags\n",
    "                if \"_\" not in ngram:\n",
    "                    ngram_dict[ngram] = ngram_dict.get(ngram, 0) + int(match_count)\n",
    "    return ngram_dict\n",
    "\n",
    "def write_ngram(d, n, code):\n",
    "    df = pd.DataFrame(d.items(), columns=['Ngram', 'Freq'])\n",
    "    df.to_csv(f\"E:/google_ngram/{n}gram/{n}gram-{code}.csv\", encoding = \"utf-8-sig\", index = False)\n",
    "    \n",
    "def download_ngram(url):\n",
    "    name = url.split(\"/\")[-1]\n",
    "    urllib.request.urlretrieve(url, \"F:/big_files/\" + name)\n",
    "    print(\"'%s\\' fetched in %ss\" % (name, (time.time() - start)))"
   ]
  },
  {
   "cell_type": "code",
   "execution_count": 11,
   "id": "300dd8e4",
   "metadata": {
    "scrolled": true
   },
   "outputs": [
    {
     "name": "stdout",
     "output_type": "stream",
     "text": [
      "Working on F:/big_file\\googlebooks-eng-all-3gram-20120701-a_.gz ......\n",
      "It took me 2170.08 seconds\n",
      "Working on F:/big_file\\googlebooks-eng-all-3gram-20120701-i_.gz ......\n",
      "It took me 435.53 seconds\n",
      "['F:/big_file\\\\googlebooks-eng-all-3gram-20120701-a_.gz', 'F:/big_file\\\\googlebooks-eng-all-3gram-20120701-i_.gz']\n"
     ]
    }
   ],
   "source": [
    "# read local google ngram file\n",
    "n = 3\n",
    "files = glob.glob(f\"F:/big_file/*{n}gram*\")\n",
    "\n",
    "for file in files:\n",
    "    start = time.time()\n",
    "    code = file.split(\"-\")[-1].split(\".\")[0]\n",
    "    print(f\"Working on {file} ......\")\n",
    "    ngram_dict = read_ngram_local(file)\n",
    "    write_ngram(ngram_dict, n, code)\n",
    "    ngram_dict.clear()\n",
    "    end = time.time()\n",
    "    print(f\"It took me {end - start:.2f} seconds\")\n",
    "\n",
    "print(files)"
   ]
  },
  {
   "cell_type": "code",
   "execution_count": null,
   "id": "be83e4b4",
   "metadata": {
    "scrolled": false
   },
   "outputs": [],
   "source": [
    "# read online google ngram data and download big files\n",
    "n = 5\n",
    "letters = string.ascii_lowercase\n",
    "\n",
    "for n in [2, 3, 4, 5]:\n",
    "    big_files = []\n",
    "    \n",
    "    for i in letters:\n",
    "        #for j in letters:\n",
    "\n",
    "        start = time.time()\n",
    "        code = i + '_'\n",
    "        url = f\"http://storage.googleapis.com/books/ngrams/books/googlebooks-eng-all-{n}gram-20120701-{code}.gz\"\n",
    "        print(f\"Working on {url} ......\")\n",
    "        try:\n",
    "            ngram_dict = read_ngram(url, big_files)\n",
    "            write_ngram(ngram_dict, n, code)\n",
    "            end = time.time()\n",
    "            print(f\"It took me {end - start:.2f} seconds\")\n",
    "            ngram_dict.clear()\n",
    "        except:\n",
    "            big_files.append(url)\n",
    "            print(f\"I can't open {url}\")\n",
    "\n",
    "    print(big_files)\n",
    "    \n",
    "    \n",
    "    print(\"Start downloading big files ......\")\n",
    "    start = time.time()\n",
    "    # open multi threads\n",
    "    threads = [threading.Thread(target=download_ngram, args=(url,)) for url in big_files]\n",
    "    for thread in threads:\n",
    "        thread.start()\n",
    "    for thread in threads:\n",
    "        thread.join()\n",
    "\n",
    "    print(\"Elapsed Time: %s\" % (time.time() - start))"
   ]
  },
  {
   "cell_type": "code",
   "execution_count": null,
   "id": "b9a53dd6",
   "metadata": {},
   "outputs": [],
   "source": [
    "# check if there is empty data\n",
    "n = 4\n",
    "files = glob.glob(f\"E:/google_ngram/{n}gram/*.csv\")\n",
    "\n",
    "size = len(files)\n",
    "\n",
    "for i in range(size):\n",
    "    f = files[i]\n",
    "    df = pd.read_csv(f)\n",
    "    if len(df) < 1:\n",
    "        print(f)"
   ]
  },
  {
   "cell_type": "code",
   "execution_count": 20,
   "id": "042f0c2f",
   "metadata": {
    "scrolled": true
   },
   "outputs": [
    {
     "name": "stdout",
     "output_type": "stream",
     "text": [
      "Merging files with initial letter a\n",
      "\n"
     ]
    }
   ],
   "source": [
    "# merge ngram files\n",
    "def merge_ngram(i, n, files):\n",
    "    print()\n",
    "    df_list = [pd.read_csv(f) for f in files]\n",
    "    merge = pd.concat(df_list)\n",
    "    merge.to_csv(f\"E:/google_ngram/clean/{n}gram/{n}gram_{i}.csv\", index = False, encoding = \"utf-8-sig\")\n",
    "\n",
    "letters = string.ascii_lowercase\n",
    "n = 2\n",
    "\n",
    "#for i in letters:\n",
    "for i in ['a']:\n",
    "    files = glob.glob(f\"E:/google_ngram/raw/{n}gram/*{i}[a-z].csv\")\n",
    "    print(f\"Merging files with initial letter {i}\")\n",
    "    merge_ngram(i, n, files)"
   ]
  },
  {
   "cell_type": "code",
   "execution_count": null,
   "id": "e4399717",
   "metadata": {},
   "outputs": [],
   "source": [
    "def is_alnum(ngram):\n",
    "    grams = ngram.split()\n",
    "    \n",
    "    for g in grams:\n",
    "        if not g.isalnum():\n",
    "            return False\n",
    "    return True\n",
    "\n",
    "def clean_ngram(file):\n",
    "    df = pd.read_csv(file)\n",
    "    df['Clean'] = df['Ngram'].apply(is_alnum)\n",
    "    df = df[df['Clean'] == True]\n",
    "    del df['Clean']\n",
    "    df.to_csv(file, index = False, encoding = 'utf-8-sig')\n",
    "\n",
    "\n",
    "for n in [2, 3, 4, 5]:\n",
    "    files = glob.glob(f\"E:/google_ngram/{n}gram/*\")\n",
    "    for file in files:\n",
    "        print(f\"Working on {file} ...\")\n",
    "        start = time.time()\n",
    "        clean_ngram(file)\n",
    "        end = time.time()\n",
    "        print(f\"It took me {end - start:.2f} seconds\")"
   ]
  },
  {
   "cell_type": "code",
   "execution_count": null,
   "id": "14bc0a11",
   "metadata": {},
   "outputs": [],
   "source": [
    "# clean ngram and only retain alphabet and numerical\n",
    "'''\n",
    "\n",
    "def clean_ngram(df, n):\n",
    "    # select colnames based on ngram\n",
    "    colnames = ['First_Word', 'Second_Word', 'Third_Word', 'Fourth_Word', 'Fifth_Word']\n",
    "    colnames = colnames[:n]\n",
    "    \n",
    "    # keep rows only when all characters are alphabetic\n",
    "    for col in colnames:\n",
    "        df = df[df[col].str.isalnum()]\n",
    "    \n",
    "    return df\n",
    "\n",
    "# split ngram into columns\n",
    "def split_ngram(df, n):\n",
    "    # select colnames based on ngram\n",
    "    colnames = ['First', 'Second', 'Third', 'Fourth', 'Fifth']\n",
    "    colnames = colnames[:n]\n",
    "    \n",
    "    # split ngram\n",
    "    df[colnames] = df.Ngram.str.split(expand=True)\n",
    "    del df['Ngram']\n",
    "    \n",
    "    # split POS tag with the word for each gram\n",
    "    for col in colnames:  \n",
    "        df[col + '_Word'] = df[col].str.split('_', expand = True)[0]\n",
    "        df[col + '_POS'] = df[col].str.split('_', expand = True)[1]\n",
    "        del df[col]\n",
    "    \n",
    "    return df\n",
    "\n",
    "'''"
   ]
  },
  {
   "cell_type": "code",
   "execution_count": 16,
   "id": "728eb788",
   "metadata": {},
   "outputs": [],
   "source": [
    "def get_size(files):\n",
    "    size = 0\n",
    "    for f in files:\n",
    "        df = pd.read_csv(f)\n",
    "        size += len(df)\n",
    "    return size\n",
    "\n",
    "def check_data(files):\n",
    "    for f in files:\n",
    "        df = pd.read_csv(f)\n",
    "        print(df.head())\n",
    "        print(df.tail())"
   ]
  },
  {
   "cell_type": "code",
   "execution_count": null,
   "id": "c2a1d821",
   "metadata": {},
   "outputs": [],
   "source": [
    "n = 3\n",
    "files = glob.glob(f\"E:/google_ngram/clean/{n}gram/*.csv\")\n",
    "check_data(files)"
   ]
  },
  {
   "cell_type": "code",
   "execution_count": null,
   "id": "5e89a5d0",
   "metadata": {},
   "outputs": [],
   "source": []
  }
 ],
 "metadata": {
  "kernelspec": {
   "display_name": "Python 3 (ipykernel)",
   "language": "python",
   "name": "python3"
  },
  "language_info": {
   "codemirror_mode": {
    "name": "ipython",
    "version": 3
   },
   "file_extension": ".py",
   "mimetype": "text/x-python",
   "name": "python",
   "nbconvert_exporter": "python",
   "pygments_lexer": "ipython3",
   "version": "3.9.7"
  }
 },
 "nbformat": 4,
 "nbformat_minor": 5
}
